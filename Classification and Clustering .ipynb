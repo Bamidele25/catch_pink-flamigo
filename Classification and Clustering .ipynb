{
 "cells": [
  {
   "cell_type": "markdown",
   "metadata": {},
   "source": [
    "## Classification and Clustering of the Flamingo  Data set"
   ]
  },
  {
   "cell_type": "markdown",
   "metadata": {},
   "source": [
    "From the exploratory analysis, the data set summary show that about 4619 user session record various number of hit_count on flamingo, with maximum value of 121 counts and minimum value of 0, which implies that some user record high hit count on flamingo in respective of the level than others. Hence, its essential to identify users who are more likely to have high hit_counts and those with low counts. In light of this, users are divided into three category with respect to the hit_counts using the median value (12) as threshold. user with hit_count greater than 12 is HighHit_count , less than 12 hit_count is LowHit_count, while user with 12 hit count are NormalHit_count.\n",
    "> Pyspark Library which was bult upon spark was use for classification and clustering "
   ]
  },
  {
   "cell_type": "code",
   "execution_count": 2,
   "metadata": {},
   "outputs": [],
   "source": [
    "#Importation pyspark library \n",
    "import pyspark"
   ]
  },
  {
   "cell_type": "code",
   "execution_count": 3,
   "metadata": {},
   "outputs": [],
   "source": [
    "#set the pyspark enviroment \n",
    "from pyspark.sql import SparkSession\n",
    "spark = SparkSession.builder.appName('classification').getOrCreate()"
   ]
  },
  {
   "cell_type": "code",
   "execution_count": 4,
   "metadata": {},
   "outputs": [
    {
     "data": {
      "text/html": [
       "\n",
       "            <div>\n",
       "                <p><b>SparkSession - in-memory</b></p>\n",
       "                \n",
       "        <div>\n",
       "            <p><b>SparkContext</b></p>\n",
       "\n",
       "            <p><a href=\"http://DESKTOP-0J6688F:4040\">Spark UI</a></p>\n",
       "\n",
       "            <dl>\n",
       "              <dt>Version</dt>\n",
       "                <dd><code>v3.1.1</code></dd>\n",
       "              <dt>Master</dt>\n",
       "                <dd><code>local[*]</code></dd>\n",
       "              <dt>AppName</dt>\n",
       "                <dd><code>classification</code></dd>\n",
       "            </dl>\n",
       "        </div>\n",
       "        \n",
       "            </div>\n",
       "        "
      ],
      "text/plain": [
       "<pyspark.sql.session.SparkSession at 0x27f1c903250>"
      ]
     },
     "execution_count": 4,
     "metadata": {},
     "output_type": "execute_result"
    }
   ],
   "source": [
    "#verify the spark session \n",
    "spark "
   ]
  },
  {
   "cell_type": "code",
   "execution_count": 6,
   "metadata": {},
   "outputs": [
    {
     "name": "stdout",
     "output_type": "stream",
     "text": [
      "+---+---------+------------+----------------+----------+-------------+\n",
      "|_c0|teamLevel|platformType|count_gameclicks|count_hits|HitCount_Type|\n",
      "+---+---------+------------+----------------+----------+-------------+\n",
      "|  0|        1|           0|              69|         8|            1|\n",
      "|  1|        1|           1|              31|         5|            1|\n",
      "|  2|        1|           1|              26|         2|            1|\n",
      "|  3|        1|           0|              35|         4|            1|\n",
      "|  4|        1|           0|              39|         0|            1|\n",
      "+---+---------+------------+----------------+----------+-------------+\n",
      "only showing top 5 rows\n",
      "\n"
     ]
    }
   ],
   "source": [
    "#read in the clean data from the EDA analysis \n",
    "df = spark.read.csv('cmb_data.csv',header = True, inferSchema=True)\n",
    "df.show(5)"
   ]
  },
  {
   "cell_type": "code",
   "execution_count": 7,
   "metadata": {},
   "outputs": [
    {
     "name": "stdout",
     "output_type": "stream",
     "text": [
      "root\n",
      " |-- _c0: integer (nullable = true)\n",
      " |-- teamLevel: integer (nullable = true)\n",
      " |-- platformType: integer (nullable = true)\n",
      " |-- count_gameclicks: integer (nullable = true)\n",
      " |-- count_hits: integer (nullable = true)\n",
      " |-- HitCount_Type: integer (nullable = true)\n",
      "\n"
     ]
    }
   ],
   "source": [
    "#check the infomation of each column \n",
    "df.printSchema()"
   ]
  },
  {
   "cell_type": "code",
   "execution_count": 8,
   "metadata": {},
   "outputs": [],
   "source": [
    "#from the inspection of the table the first column look irrelevant. hence we drop the first column\n",
    "df = df.drop('_c0')"
   ]
  },
  {
   "cell_type": "markdown",
   "metadata": {},
   "source": [
    "## **Note**: \n",
    "> Also from the EDA analysis there exist high correlation between hitcount and GameCLick count.hence we drop count_hits and leave \n",
    "count game click since count_hits is use to deduce HitCount_Type and also both features exhibit high correlation."
   ]
  },
  {
   "cell_type": "code",
   "execution_count": 18,
   "metadata": {},
   "outputs": [],
   "source": [
    "df = df.drop('count_hits')"
   ]
  },
  {
   "cell_type": "code",
   "execution_count": 19,
   "metadata": {},
   "outputs": [
    {
     "name": "stdout",
     "output_type": "stream",
     "text": [
      "+---------+------------+----------------+-------------+\n",
      "|teamLevel|platformType|count_gameclicks|HitCount_Type|\n",
      "+---------+------------+----------------+-------------+\n",
      "|        1|           0|              69|            1|\n",
      "|        1|           1|              31|            1|\n",
      "|        1|           1|              26|            1|\n",
      "|        1|           0|              35|            1|\n",
      "|        1|           0|              39|            1|\n",
      "+---------+------------+----------------+-------------+\n",
      "only showing top 5 rows\n",
      "\n"
     ]
    }
   ],
   "source": [
    "df.show(5)"
   ]
  },
  {
   "cell_type": "code",
   "execution_count": 20,
   "metadata": {},
   "outputs": [
    {
     "data": {
      "text/plain": [
       "4619"
      ]
     },
     "execution_count": 20,
     "metadata": {},
     "output_type": "execute_result"
    }
   ],
   "source": [
    "#get the number of row \n",
    "df.count()"
   ]
  },
  {
   "cell_type": "code",
   "execution_count": 22,
   "metadata": {},
   "outputs": [
    {
     "name": "stdout",
     "output_type": "stream",
     "text": [
      "+---------+------------+----------------+-------------+\n",
      "|teamLevel|platformType|count_gameclicks|HitCount_Type|\n",
      "+---------+------------+----------------+-------------+\n",
      "|        1|           0|               2|            1|\n",
      "|        1|           0|               8|            1|\n",
      "|        1|           0|              18|            1|\n",
      "|        1|           0|              19|            1|\n",
      "+---------+------------+----------------+-------------+\n",
      "only showing top 4 rows\n",
      "\n"
     ]
    }
   ],
   "source": [
    "train_df.show(4)"
   ]
  },
  {
   "cell_type": "code",
   "execution_count": 59,
   "metadata": {},
   "outputs": [],
   "source": [
    "#import classification algorithm needed for the dataset\n",
    "from pyspark.ml import Pipeline\n",
    "from pyspark.ml.feature import VectorAssembler\n",
    "from pyspark.ml.classification import RandomForestClassifier,DecisionTreeClassifier,NaiveBayes\n",
    "from pyspark.ml.evaluation import MulticlassClassificationEvaluator"
   ]
  },
  {
   "cell_type": "code",
   "execution_count": 27,
   "metadata": {},
   "outputs": [],
   "source": [
    "#set the feauters \n",
    "features_ass = VectorAssembler(inputCols = ['teamLevel','platformType','count_gameclicks'], outputCol='Select Features')\n",
    "output = features_ass.transform(df)"
   ]
  },
  {
   "cell_type": "code",
   "execution_count": 29,
   "metadata": {},
   "outputs": [
    {
     "name": "stdout",
     "output_type": "stream",
     "text": [
      "+---------------+\n",
      "|Select Features|\n",
      "+---------------+\n",
      "| [1.0,0.0,69.0]|\n",
      "| [1.0,1.0,31.0]|\n",
      "| [1.0,1.0,26.0]|\n",
      "| [1.0,0.0,35.0]|\n",
      "| [1.0,0.0,39.0]|\n",
      "| [1.0,0.0,36.0]|\n",
      "| [1.0,1.0,40.0]|\n",
      "| [1.0,4.0,46.0]|\n",
      "| [1.0,0.0,68.0]|\n",
      "| [1.0,1.0,76.0]|\n",
      "| [1.0,1.0,69.0]|\n",
      "|[1.0,1.0,129.0]|\n",
      "| [1.0,1.0,36.0]|\n",
      "|[1.0,0.0,102.0]|\n",
      "|[1.0,0.0,102.0]|\n",
      "| [1.0,1.0,63.0]|\n",
      "|[1.0,0.0,141.0]|\n",
      "| [1.0,0.0,39.0]|\n",
      "| [1.0,0.0,90.0]|\n",
      "| [1.0,1.0,32.0]|\n",
      "+---------------+\n",
      "only showing top 20 rows\n",
      "\n"
     ]
    }
   ],
   "source": [
    "#select the feature column and display the first 20 row \n",
    "output.select('Select Features').show()"
   ]
  },
  {
   "cell_type": "code",
   "execution_count": 30,
   "metadata": {},
   "outputs": [],
   "source": [
    "#select the needed column from the transformed data \n",
    "class_data = output.select('Select Features','HitCount_Type')"
   ]
  },
  {
   "cell_type": "code",
   "execution_count": 32,
   "metadata": {},
   "outputs": [
    {
     "name": "stdout",
     "output_type": "stream",
     "text": [
      "+---------------+-------------+\n",
      "|Select Features|HitCount_Type|\n",
      "+---------------+-------------+\n",
      "| [1.0,0.0,69.0]|            1|\n",
      "| [1.0,1.0,31.0]|            1|\n",
      "| [1.0,1.0,26.0]|            1|\n",
      "| [1.0,0.0,35.0]|            1|\n",
      "| [1.0,0.0,39.0]|            1|\n",
      "+---------------+-------------+\n",
      "only showing top 5 rows\n",
      "\n"
     ]
    }
   ],
   "source": [
    "#display the first 5\n",
    "class_data.show(5)"
   ]
  },
  {
   "cell_type": "code",
   "execution_count": 33,
   "metadata": {},
   "outputs": [
    {
     "name": "stdout",
     "output_type": "stream",
     "text": [
      "Lenght of Train_data: 3484\n",
      "Lenght of Test_data: 1135\n"
     ]
    }
   ],
   "source": [
    "#split the dataset into training and test\n",
    "train_df, test_df = class_data.randomSplit([0.75,0.25])\n",
    "print('Lenght of Train_data:', train_df.count())\n",
    "print('Lenght of Test_data:', test_df.count())"
   ]
  },
  {
   "cell_type": "markdown",
   "metadata": {},
   "source": [
    "## **Random Forest Model**"
   ]
  },
  {
   "cell_type": "code",
   "execution_count": 35,
   "metadata": {},
   "outputs": [],
   "source": [
    "#set_up the RandomForest_Model\n",
    "rf = RandomForestClassifier(labelCol=\"HitCount_Type\", featuresCol=\"Select Features\", numTrees=20)\n",
    "#model it on the train data \n",
    "model = rf.fit(train_df)"
   ]
  },
  {
   "cell_type": "code",
   "execution_count": 36,
   "metadata": {},
   "outputs": [],
   "source": [
    "#prediction \n",
    "pred = model.transform(test_df)"
   ]
  },
  {
   "cell_type": "code",
   "execution_count": 37,
   "metadata": {},
   "outputs": [
    {
     "name": "stdout",
     "output_type": "stream",
     "text": [
      "root\n",
      " |-- Select Features: vector (nullable = true)\n",
      " |-- HitCount_Type: integer (nullable = true)\n",
      " |-- rawPrediction: vector (nullable = true)\n",
      " |-- probability: vector (nullable = true)\n",
      " |-- prediction: double (nullable = false)\n",
      "\n"
     ]
    }
   ],
   "source": [
    "pred.printSchema()"
   ]
  },
  {
   "cell_type": "code",
   "execution_count": 41,
   "metadata": {},
   "outputs": [
    {
     "name": "stdout",
     "output_type": "stream",
     "text": [
      "+----------+-------------+\n",
      "|prediction|HitCount_Type|\n",
      "+----------+-------------+\n",
      "|       1.0|            1|\n",
      "|       1.0|            1|\n",
      "|       1.0|            1|\n",
      "|       1.0|            1|\n",
      "|       1.0|            1|\n",
      "+----------+-------------+\n",
      "only showing top 5 rows\n",
      "\n"
     ]
    }
   ],
   "source": [
    "#display the prediction value \n",
    "pred.select('prediction','HitCount_Type').show(5)"
   ]
  },
  {
   "cell_type": "code",
   "execution_count": 43,
   "metadata": {},
   "outputs": [
    {
     "name": "stdout",
     "output_type": "stream",
     "text": [
      "Test Error = 0.179736\n"
     ]
    }
   ],
   "source": [
    "evaluator = MulticlassClassificationEvaluator(\n",
    "    labelCol=\"HitCount_Type\", predictionCol=\"prediction\", metricName=\"accuracy\")\n",
    "accuracy = evaluator.evaluate(pred)\n",
    "print(\"Test Error = %g\" % (1.0 - accuracy))"
   ]
  },
  {
   "cell_type": "code",
   "execution_count": 44,
   "metadata": {},
   "outputs": [
    {
     "data": {
      "text/plain": [
       "0.8202643171806168"
      ]
     },
     "execution_count": 44,
     "metadata": {},
     "output_type": "execute_result"
    }
   ],
   "source": [
    "accuracy"
   ]
  },
  {
   "cell_type": "markdown",
   "metadata": {},
   "source": [
    "## **Navie Bayes**"
   ]
  },
  {
   "cell_type": "code",
   "execution_count": 52,
   "metadata": {},
   "outputs": [],
   "source": [
    "#set up the NavieBases Model \n",
    "NB = NaiveBayes(featuresCol='Select Features',labelCol='HitCount_Type',smoothing=5.0)\n",
    "#fit the model\n",
    "model2 = NB.fit(train_df)"
   ]
  },
  {
   "cell_type": "code",
   "execution_count": 53,
   "metadata": {},
   "outputs": [],
   "source": [
    "#prediction \n",
    "pred2 = model2.transform(test_df)"
   ]
  },
  {
   "cell_type": "code",
   "execution_count": 54,
   "metadata": {},
   "outputs": [
    {
     "name": "stdout",
     "output_type": "stream",
     "text": [
      "+----------+-------------+\n",
      "|prediction|HitCount_Type|\n",
      "+----------+-------------+\n",
      "|       1.0|            1|\n",
      "|       1.0|            1|\n",
      "|       0.0|            1|\n",
      "|       0.0|            1|\n",
      "|       0.0|            1|\n",
      "|       0.0|            1|\n",
      "|       0.0|            1|\n",
      "|       0.0|            1|\n",
      "|       0.0|            1|\n",
      "|       0.0|            1|\n",
      "|       0.0|            1|\n",
      "|       0.0|            2|\n",
      "|       0.0|            1|\n",
      "|       0.0|            1|\n",
      "|       0.0|            0|\n",
      "|       0.0|            1|\n",
      "|       0.0|            0|\n",
      "|       0.0|            1|\n",
      "|       0.0|            1|\n",
      "|       0.0|            0|\n",
      "+----------+-------------+\n",
      "only showing top 20 rows\n",
      "\n"
     ]
    }
   ],
   "source": [
    "#display the prediction value \n",
    "pred2.select('prediction','HitCount_Type').show(20)"
   ]
  },
  {
   "cell_type": "code",
   "execution_count": 57,
   "metadata": {},
   "outputs": [
    {
     "name": "stdout",
     "output_type": "stream",
     "text": [
      "Test Error = 0.282819\n"
     ]
    }
   ],
   "source": [
    "evaluator = MulticlassClassificationEvaluator(\n",
    "    labelCol=\"HitCount_Type\", predictionCol=\"prediction\", metricName=\"accuracy\")\n",
    "accuracy = evaluator.evaluate(pred2)\n",
    "print(\"Test Error = %g\" % (1.0 - accuracy))"
   ]
  },
  {
   "cell_type": "code",
   "execution_count": 58,
   "metadata": {},
   "outputs": [
    {
     "data": {
      "text/plain": [
       "0.7171806167400882"
      ]
     },
     "execution_count": 58,
     "metadata": {},
     "output_type": "execute_result"
    }
   ],
   "source": [
    "accuracy"
   ]
  },
  {
   "cell_type": "markdown",
   "metadata": {},
   "source": [
    "## **Decision tree classifier**"
   ]
  },
  {
   "cell_type": "code",
   "execution_count": 62,
   "metadata": {},
   "outputs": [],
   "source": [
    "#set GBT classifier model \n",
    "DT = DecisionTreeClassifier(featuresCol='Select Features',labelCol='HitCount_Type')\n",
    "#fit the model into train data set\n",
    "model3 = DT.fit(train_df)"
   ]
  },
  {
   "cell_type": "code",
   "execution_count": 63,
   "metadata": {},
   "outputs": [],
   "source": [
    "#prediction \n",
    "pred3 = model3.transform(test_df)"
   ]
  },
  {
   "cell_type": "code",
   "execution_count": 64,
   "metadata": {},
   "outputs": [
    {
     "name": "stdout",
     "output_type": "stream",
     "text": [
      "+----------+-------------+\n",
      "|prediction|HitCount_Type|\n",
      "+----------+-------------+\n",
      "|       1.0|            1|\n",
      "|       1.0|            1|\n",
      "|       1.0|            1|\n",
      "|       1.0|            1|\n",
      "|       1.0|            1|\n",
      "|       1.0|            1|\n",
      "|       1.0|            1|\n",
      "|       1.0|            1|\n",
      "|       1.0|            1|\n",
      "|       1.0|            1|\n",
      "|       1.0|            1|\n",
      "|       1.0|            2|\n",
      "|       1.0|            1|\n",
      "|       1.0|            1|\n",
      "|       1.0|            0|\n",
      "|       1.0|            1|\n",
      "|       1.0|            0|\n",
      "|       1.0|            1|\n",
      "|       1.0|            1|\n",
      "|       0.0|            0|\n",
      "+----------+-------------+\n",
      "only showing top 20 rows\n",
      "\n"
     ]
    }
   ],
   "source": [
    "#display the prediction value \n",
    "pred3.select('prediction','HitCount_Type').show(20)"
   ]
  },
  {
   "cell_type": "code",
   "execution_count": 65,
   "metadata": {},
   "outputs": [
    {
     "name": "stdout",
     "output_type": "stream",
     "text": [
      "Test Error = 0.178855\n",
      "0.8211453744493392\n"
     ]
    }
   ],
   "source": [
    "evaluator = MulticlassClassificationEvaluator(\n",
    "    labelCol=\"HitCount_Type\", predictionCol=\"prediction\", metricName=\"accuracy\")\n",
    "accuracy = evaluator.evaluate(pred3)\n",
    "print(\"Test Error = %g\" % (1.0 - accuracy));\n",
    "print (accuracy)"
   ]
  },
  {
   "cell_type": "markdown",
   "metadata": {},
   "source": [
    "## **Clustering Analysis**\n",
    "This section describes the use of unsupervised learning algorithm to group the data set into similar categories, this study adopts\n",
    "k-Means clustering. Below are the following task carried out:\n",
    "- importing of library\n",
    "- import the data set \n",
    "- group the data into features\n",
    "- scale the data set \n",
    "- set up the model "
   ]
  },
  {
   "cell_type": "code",
   "execution_count": 106,
   "metadata": {},
   "outputs": [],
   "source": [
    "#libraries \n",
    "from pyspark.ml.clustering import KMeans\n",
    "from pyspark.ml.feature import VectorAssembler\n",
    "from pyspark.ml.feature import StandardScaler\n",
    "from pyspark.ml.evaluation import ClusteringEvaluator\n",
    "from pyspark.mllib.linalg import DenseVector\n",
    "from numpy import array"
   ]
  },
  {
   "cell_type": "code",
   "execution_count": 68,
   "metadata": {
    "scrolled": true
   },
   "outputs": [
    {
     "name": "stdout",
     "output_type": "stream",
     "text": [
      "+---+---------+------------+----------------+----------+-------------+\n",
      "|_c0|teamLevel|platformType|count_gameclicks|count_hits|HitCount_Type|\n",
      "+---+---------+------------+----------------+----------+-------------+\n",
      "|  0|        1|           0|              69|         8|            1|\n",
      "|  1|        1|           1|              31|         5|            1|\n",
      "|  2|        1|           1|              26|         2|            1|\n",
      "|  3|        1|           0|              35|         4|            1|\n",
      "|  4|        1|           0|              39|         0|            1|\n",
      "+---+---------+------------+----------------+----------+-------------+\n",
      "only showing top 5 rows\n",
      "\n"
     ]
    }
   ],
   "source": [
    "#read in the data set \n",
    "clus = spark.read.csv('cmb_data.csv',header=True,inferSchema=True)\n",
    "clus.show(5)"
   ]
  },
  {
   "cell_type": "markdown",
   "metadata": {},
   "source": [
    "**Note**:\n",
    "The experience level of the user can also influence the hitCount, so the study adopt clustering technique on top of classification algorithm previous carried out to catagorize the user based on experinence which is measure by the game level. there column platformType has no significant influence on the feature."
   ]
  },
  {
   "cell_type": "code",
   "execution_count": 69,
   "metadata": {},
   "outputs": [],
   "source": [
    "clus = clus.drop('_c0','platformType')"
   ]
  },
  {
   "cell_type": "code",
   "execution_count": 70,
   "metadata": {},
   "outputs": [
    {
     "name": "stdout",
     "output_type": "stream",
     "text": [
      "+---------+----------------+----------+-------------+\n",
      "|teamLevel|count_gameclicks|count_hits|HitCount_Type|\n",
      "+---------+----------------+----------+-------------+\n",
      "|        1|              69|         8|            1|\n",
      "|        1|              31|         5|            1|\n",
      "|        1|              26|         2|            1|\n",
      "+---------+----------------+----------+-------------+\n",
      "only showing top 3 rows\n",
      "\n"
     ]
    }
   ],
   "source": [
    "clus.show(3)"
   ]
  },
  {
   "cell_type": "code",
   "execution_count": 73,
   "metadata": {},
   "outputs": [],
   "source": [
    "#group by features \n",
    "feat = ['teamLevel','count_gameclicks','count_hits','HitCount_Type']\n",
    "feat_cols = VectorAssembler(inputCols=feat,outputCol='sel_feat')\n",
    "ft_data=feat_cols.transform(clus)"
   ]
  },
  {
   "cell_type": "code",
   "execution_count": 74,
   "metadata": {
    "scrolled": true
   },
   "outputs": [
    {
     "name": "stdout",
     "output_type": "stream",
     "text": [
      "+---------+----------------+----------+-------------+------------------+\n",
      "|teamLevel|count_gameclicks|count_hits|HitCount_Type|          sel_feat|\n",
      "+---------+----------------+----------+-------------+------------------+\n",
      "|        1|              69|         8|            1|[1.0,69.0,8.0,1.0]|\n",
      "|        1|              31|         5|            1|[1.0,31.0,5.0,1.0]|\n",
      "|        1|              26|         2|            1|[1.0,26.0,2.0,1.0]|\n",
      "+---------+----------------+----------+-------------+------------------+\n",
      "only showing top 3 rows\n",
      "\n"
     ]
    }
   ],
   "source": [
    "ft_data.show(3)"
   ]
  },
  {
   "cell_type": "code",
   "execution_count": 75,
   "metadata": {},
   "outputs": [],
   "source": [
    "final_dt = ft_data.select('sel_feat')"
   ]
  },
  {
   "cell_type": "code",
   "execution_count": 76,
   "metadata": {},
   "outputs": [
    {
     "name": "stdout",
     "output_type": "stream",
     "text": [
      "+------------------+\n",
      "|          sel_feat|\n",
      "+------------------+\n",
      "|[1.0,69.0,8.0,1.0]|\n",
      "|[1.0,31.0,5.0,1.0]|\n",
      "+------------------+\n",
      "only showing top 2 rows\n",
      "\n"
     ]
    }
   ],
   "source": [
    "final_dt.show(2)"
   ]
  },
  {
   "cell_type": "code",
   "execution_count": 136,
   "metadata": {},
   "outputs": [],
   "source": [
    "#scale the Data set \n",
    "scale = StandardScaler(inputCol='sel_feat',outputCol='features',withMean=True,withStd=True)\n",
    "smodel = scale.fit(final_dt)\n",
    "clus_dt = smodel.transform(final_dt)"
   ]
  },
  {
   "cell_type": "code",
   "execution_count": 137,
   "metadata": {},
   "outputs": [
    {
     "name": "stdout",
     "output_type": "stream",
     "text": [
      "+------------------+--------------------+\n",
      "|          sel_feat|            features|\n",
      "+------------------+--------------------+\n",
      "|[1.0,69.0,8.0,1.0]|[-1.7435288565423...|\n",
      "|[1.0,31.0,5.0,1.0]|[-1.7435288565423...|\n",
      "|[1.0,26.0,2.0,1.0]|[-1.7435288565423...|\n",
      "|[1.0,35.0,4.0,1.0]|[-1.7435288565423...|\n",
      "+------------------+--------------------+\n",
      "only showing top 4 rows\n",
      "\n"
     ]
    }
   ],
   "source": [
    "clus_dt.show(4)"
   ]
  },
  {
   "cell_type": "code",
   "execution_count": 88,
   "metadata": {},
   "outputs": [],
   "source": [
    "#set_up the model\n",
    "km2 = KMeans(featuresCol='Sfeature', maxIter=100)\n",
    "km3 = KMeans(featuresCol='Sfeature',k = 3, maxIter=100)"
   ]
  },
  {
   "cell_type": "code",
   "execution_count": 89,
   "metadata": {},
   "outputs": [],
   "source": [
    "#fit the model \n",
    "model_k2 = km2.fit(clus_dt)\n",
    "model_k3 = km3.fit(clus_dt)"
   ]
  },
  {
   "cell_type": "code",
   "execution_count": 93,
   "metadata": {},
   "outputs": [],
   "source": [
    "#within sum of square \n",
    "wss_k2 = model_k2.summary.trainingCost\n",
    "wss_k3 = model_k3.summary.trainingCost"
   ]
  },
  {
   "cell_type": "code",
   "execution_count": 110,
   "metadata": {},
   "outputs": [],
   "source": [
    "def computeCost(featuresAndPrediction, model):\n",
    "    allClusterCenters = [DenseVector(c) for c in model.clusterCenters()]\n",
    "    arrayCollection   = featuresAndPrediction.rdd.map(array)\n",
    "\n",
    "    def error(point, predictedCluster):\n",
    "        center = allClusterCenters[predictedCluster]\n",
    "        z      = point - center\n",
    "        return sqrt((z*z).sum())\n",
    "    \n",
    "    return arrayCollection.map(lambda row: error(row[0], row[1])).reduce(lambda x, y: x + y)\n",
    "def elbow(elbowset, clusters):\n",
    "\twsseList = []\t\n",
    "\tfor k in clusters:\n",
    "\t\tprint(\"Training for cluster size {} \".format(k))\n",
    "\t\tkmeans = KMeans(featuresCol='Sfeature',k = k, seed = 1)\n",
    "\t\tmodel = kmeans.fit(clus_dt)\n",
    "\t\ttransformed = model.transform(clus_dt)\n",
    "\t\tfeaturesAndPrediction = transformed.select(\"Sfeature\", \"prediction\")\n",
    "\n",
    "\t\tW = model.summary.trainingCost\n",
    "\t\tprint(\"......................WSSE = {} \".format(W))\n",
    "\n",
    "\t\twsseList.append(W)\n",
    "\treturn wsseList\n",
    "\n",
    "def elbow_plot(wsseList, clusters):\n",
    "\twsseDF = pd.DataFrame({'WSSE' : wsseList, 'k' : clusters })\n",
    "\twsseDF.plot(y='WSSE', x='k', figsize=(15,10), grid=True, marker='o')\n",
    "\n",
    "def pd_centers(featuresUsed, centers):\n",
    "\tcolNames = list(featuresUsed)\n",
    "\tcolNames.append('prediction')\n",
    "\n",
    "\t# Zip with a column called 'prediction' (index)\n",
    "\tZ = [np.append(A, index) for index, A in enumerate(centers)]\n",
    "\n",
    "\t# Convert to pandas for plotting\n",
    "\tP = pd.DataFrame(Z, columns=colNames)\n",
    "\tP['prediction'] = P['prediction'].astype(int)\n",
    "\treturn P\n",
    "\n",
    "def parallel_plot(data, P):\n",
    "\tmy_colors = list(islice(cycle(['b', 'r', 'g', 'y', 'k']), None, len(P)))\n",
    "\tplt.figure(figsize=(15,8)).gca().axes.set_ylim([-3,+3])\n",
    "\tparallel_coordinates(data, 'prediction', color = my_colors, marker='o')\n"
   ]
  },
  {
   "cell_type": "code",
   "execution_count": 114,
   "metadata": {},
   "outputs": [
    {
     "name": "stdout",
     "output_type": "stream",
     "text": [
      "Training for cluster size 2 \n",
      "......................WSSE = 10955.519332678241 \n",
      "Training for cluster size 3 \n",
      "......................WSSE = 7175.625230835749 \n",
      "Training for cluster size 4 \n",
      "......................WSSE = 5112.251805279729 \n",
      "Training for cluster size 5 \n",
      "......................WSSE = 4566.01867083082 \n",
      "Training for cluster size 6 \n",
      "......................WSSE = 3462.91707892981 \n",
      "Training for cluster size 7 \n",
      "......................WSSE = 3119.114485287003 \n",
      "Training for cluster size 8 \n",
      "......................WSSE = 2435.7330819535446 \n",
      "Training for cluster size 9 \n",
      "......................WSSE = 2164.647171312163 \n"
     ]
    }
   ],
   "source": [
    "cluster = range(2,10)\n",
    "#featur = clus_dt.select('Sfeature')\n",
    "wsse_list = elbow(clus_dt,cluster)"
   ]
  },
  {
   "cell_type": "code",
   "execution_count": 116,
   "metadata": {},
   "outputs": [
    {
     "data": {
      "image/png": "[encoded data removed]",
      "text/plain": [
       "<Figure size 1080x720 with 1 Axes>"
      ]
     },
     "metadata": {
      "needs_background": "light"
     },
     "output_type": "display_data"
    }
   ],
   "source": [
    "elbow_plot(wsse_list, cluster)"
   ]
  },
  {
   "cell_type": "markdown",
   "metadata": {},
   "source": [
    "Note: the elbow join: 4"
   ]
  },
  {
   "cell_type": "code",
   "execution_count": 133,
   "metadata": {},
   "outputs": [],
   "source": [
    "clus_dt = clus_dt.select('Sfeature')"
   ]
  },
  {
   "cell_type": "code",
   "execution_count": 138,
   "metadata": {},
   "outputs": [],
   "source": [
    "# Trains a k-means model.\n",
    "km4 = KMeans().setK(4).setSeed(1)\n",
    "model_k4 = km4.fit(clus_dt)\n",
    "\n",
    "# Make predictions\n",
    "predictions = model_k4.transform(clus_dt)"
   ]
  },
  {
   "cell_type": "code",
   "execution_count": 139,
   "metadata": {},
   "outputs": [
    {
     "name": "stdout",
     "output_type": "stream",
     "text": [
      "Silhouette with squared euclidean distance = 0.6107146418984036\n"
     ]
    }
   ],
   "source": [
    "#model Evaluation \n",
    "# Evaluate clustering by computing Silhouette score\n",
    "evaluator = ClusteringEvaluator()\n",
    "\n",
    "silhouette = evaluator.evaluate(predictions)\n",
    "print(\"Silhouette with squared euclidean distance = \" + str(silhouette))\n"
   ]
  },
  {
   "cell_type": "code",
   "execution_count": 140,
   "metadata": {},
   "outputs": [
    {
     "name": "stdout",
     "output_type": "stream",
     "text": [
      "Cluster Centers: \n",
      "[-0.64534343  2.72276704  2.68485062 -0.99535609]\n",
      "[ 0.63205627 -0.49396818 -0.56872983  0.91258538]\n",
      "[-1.23057925 -0.5969682  -0.63686307  0.73991893]\n",
      "[ 0.30914693  0.21674471  0.31013627 -0.99535609]\n"
     ]
    }
   ],
   "source": [
    "#Shows the result.\n",
    "centers = model_k4.clusterCenters()\n",
    "print(\"Cluster Centers: \")\n",
    "for center in centers:\n",
    "    print(center)"
   ]
  }
 ],
 "metadata": {
  "kernelspec": {
   "display_name": "Python 3",
   "language": "python",
   "name": "python3"
  },
  "language_info": {
   "codemirror_mode": {
    "name": "ipython",
    "version": 3
   },
   "file_extension": ".py",
   "mimetype": "text/x-python",
   "name": "python",
   "nbconvert_exporter": "python",
   "pygments_lexer": "ipython3",
   "version": "3.8.5"
  }
 },
 "nbformat": 4,
 "nbformat_minor": 4
}
